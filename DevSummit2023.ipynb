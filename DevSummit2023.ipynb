{
 "cells": [
  {
   "cell_type": "markdown",
   "id": "23f04614-d667-440e-b67c-082086232fec",
   "metadata": {
    "tags": []
   },
   "source": [
    "\n",
    "# GWR in BDT Using Uber H3\n",
    "\n",
    "Presented By: Alex Almond, Software Developer for Big Data Toolkit (BDT)"
   ]
  },
  {
   "cell_type": "code",
   "execution_count": 1,
   "id": "ce862b7a-5da2-4562-a65f-92107de5cb85",
   "metadata": {},
   "outputs": [
    {
     "name": "stdout",
     "output_type": "stream",
     "text": [
      "BDT3 has been successfully authorized!\n"
     ]
    }
   ],
   "source": [
    "import bdt\n",
    "bdt.auth(\"../bdt.lic\")\n",
    "from bdt.functions import *\n",
    "from bdt.processors import *"
   ]
  },
  {
   "cell_type": "markdown",
   "id": "e3d0cdc6-ea42-46cc-9b5b-1b395f6ba0ab",
   "metadata": {},
   "source": [
    "## 1. Intro to Uber H3."
   ]
  },
  {
   "cell_type": "markdown",
   "id": "77752d1f-fb21-4a56-9fb2-7e2225557aa7",
   "metadata": {},
   "source": [
    "* OSS Library developed at Uber.\n",
    "\n",
    "* A hexogonal and hierarchical spatial grid.\n",
    "\n",
    "* Can scale up and down resolutions easily.\n",
    "\n",
    "* Increasingly popular across industry."
   ]
  },
  {
   "cell_type": "markdown",
   "id": "12d83b97-5125-4611-aac8-8522a72dfda5",
   "metadata": {},
   "source": [
    "<img src=\"DevSummit23Images/uber_h3_ba.png\" alt=\"Drawing\" style=\"width: 400px;\">"
   ]
  },
  {
   "cell_type": "markdown",
   "id": "339b780b-24a8-4be7-a21a-0ac399c192a5",
   "metadata": {},
   "source": [
    "* BDT has Uber H3 Functionality"
   ]
  },
  {
   "cell_type": "code",
   "execution_count": 2,
   "id": "5811b379-f6d2-49aa-bd16-be38002764c3",
   "metadata": {},
   "outputs": [
    {
     "name": "stdout",
     "output_type": "stream",
     "text": [
      "+----------------+\n",
      "|        function|\n",
      "+----------------+\n",
      "|      h3distance|\n",
      "|         h3kring|\n",
      "|h3kringdistances|\n",
      "|    h3tochildren|\n",
      "|         h3togeo|\n",
      "| h3togeoboundary|\n",
      "|      h3toparent|\n",
      "|      h3tostring|\n",
      "+----------------+\n",
      "\n"
     ]
    }
   ],
   "source": [
    "spark.sql(\"\"\"\n",
    "    SHOW USER FUNCTIONS LIKE 'H3*'\n",
    "\"\"\").show()"
   ]
  },
  {
   "cell_type": "markdown",
   "id": "eb606430-c500-4518-9f3a-28c27cd8f86a",
   "metadata": {
    "tags": []
   },
   "source": [
    "## 2. Intro to OLS."
   ]
  },
  {
   "cell_type": "markdown",
   "id": "2207f438-8d98-4706-8150-1ac71c6e1353",
   "metadata": {},
   "source": [
    "* OLS is a type of Regression (Data Science Tool)\n",
    "\n",
    "* Predicts a dependent variable from independent variables.\n",
    "\n",
    "<!-- -->\n",
    "\n",
    "* Parameters $\\hat{\\beta}_p$ (beta coefficients) and $\\hat{\\epsilon}_i$ (random error) are estimated."
   ]
  },
  {
   "cell_type": "markdown",
   "id": "595886da-adb3-4fd7-a195-dd5ac1520a59",
   "metadata": {},
   "source": [
    "<img src=\"DevSummit23Images/Regression.png\" alt=\"Regression_Eq\" style=\"width: 600px;\">"
   ]
  },
  {
   "cell_type": "markdown",
   "id": "4dc97ead-e242-4970-9f13-447406dabbe1",
   "metadata": {},
   "source": [
    "* The regression will minimize the difference between predicted and actual."
   ]
  },
  {
   "cell_type": "markdown",
   "id": "ccf1dbf5-1b06-468f-8a3d-1f2e768dc522",
   "metadata": {},
   "source": [
    "<img src=\"DevSummit23Images/OLS.png\" alt=\"Residuals\" style=\"width: 400px;\">"
   ]
  },
  {
   "cell_type": "markdown",
   "id": "7af93fd8-1ce8-45ae-b03b-974050d848d5",
   "metadata": {},
   "source": [
    "## 2. Intro to GWR."
   ]
  },
  {
   "cell_type": "markdown",
   "id": "bf4da1fa-ec60-40c9-816d-b941764fb835",
   "metadata": {},
   "source": [
    "* GWR runs seperate regressions over each geographic subset.\n",
    "\n",
    "<!-- -->\n",
    "\n",
    "* The input data is weighted geographically.\n",
    "\n",
    "<!-- -->\n",
    "\n",
    "* Weights are part of the model training process.\n",
    "\n",
    "<!-- -->\n",
    "\n",
    "* OLS is actually a weighted regression with all weights equal to 1."
   ]
  },
  {
   "cell_type": "markdown",
   "id": "3c5a0794-5490-433d-a10a-d2215697de75",
   "metadata": {},
   "source": [
    "<img src=\"DevSummit23Images/GWR2.png\" alt=\"GWR\" style=\"width: 600px;\">"
   ]
  },
  {
   "cell_type": "markdown",
   "id": "784bca69-5494-4d44-baef-676f2dd592c5",
   "metadata": {
    "tags": []
   },
   "source": [
    "## 4. Why GWR in BDT with Uber H3?"
   ]
  },
  {
   "cell_type": "markdown",
   "id": "4b019518-144c-4c43-a94c-9f3870b2fd89",
   "metadata": {},
   "source": [
    "* Increased customer demand for H3.\n",
    "\n",
    "<!-- -->\n",
    "\n",
    "* Increased customer demand for data science capabilities.\n",
    "\n",
    "<!-- -->\n",
    "\n",
    "\n",
    "* BDT can scale GWR efficiently for large datasets.\n",
    "\n",
    "<!-- -->\n",
    "\n",
    "\n",
    "* BDT runs in your cloud cluster environment."
   ]
  },
  {
   "cell_type": "markdown",
   "id": "1c4216de-83e1-4bc6-a224-b83462e48afc",
   "metadata": {},
   "source": [
    "## 5. GWR with H3 in BDT: Under the Hood"
   ]
  },
  {
   "cell_type": "markdown",
   "id": "15509e23-2f82-4cd6-aed0-33b8b6c9fc80",
   "metadata": {},
   "source": [
    "### 5.1 Parent GWR Area"
   ]
  },
  {
   "cell_type": "markdown",
   "id": "3cb34db7-e252-44f3-a01e-efde52aea734",
   "metadata": {},
   "source": [
    "#### 5.1.1 Visualization"
   ]
  },
  {
   "cell_type": "markdown",
   "id": "c40ab4c9-e790-46bd-ad57-9cf736cda427",
   "metadata": {},
   "source": [
    "* GWR Areas are determined by parent H3 hexbins.\n",
    "\n",
    "<!-- -->\n",
    "   \n",
    "* Example - Obervation Unit: Res 7, Parent GWR Area: Res 6"
   ]
  },
  {
   "cell_type": "markdown",
   "id": "26b5b76f-1894-452c-ae35-4dc210ce0ca7",
   "metadata": {},
   "source": [
    "<img src=\"DevSummit23Images/child_parent.png\" alt=\"Drawing\" style=\"width: 400px;\">"
   ]
  },
  {
   "cell_type": "markdown",
   "id": "d860b485-bf2f-4a1c-90df-685ceaeb5711",
   "metadata": {},
   "source": [
    "#### 5.1.2 BDT Code"
   ]
  },
  {
   "cell_type": "markdown",
   "id": "8239efbd-ad8e-4c9e-bbdb-3af7fac5ee5c",
   "metadata": {},
   "source": [
    "* Load in the sample data."
   ]
  },
  {
   "cell_type": "code",
   "execution_count": 3,
   "id": "ffd24ccf-0378-46e1-beba-2de1997d907f",
   "metadata": {},
   "outputs": [
    {
     "name": "stderr",
     "output_type": "stream",
     "text": [
      "[Stage 0:>                                                          (0 + 1) / 1]\r"
     ]
    },
    {
     "name": "stdout",
     "output_type": "stream",
     "text": [
      "root\n",
      " |-- h7_idx: long (nullable = true)\n",
      "\n"
     ]
    },
    {
     "name": "stderr",
     "output_type": "stream",
     "text": [
      "                                                                                \r"
     ]
    }
   ],
   "source": [
    "input_df = spark \\\n",
    "    .read \\\n",
    "    .parquet(\"/Users/ale10305/ws/bdt3/bdt3-py/src/test/python/bdt/resources/gwrh3_input.prq\") \\\n",
    "    .selectExpr(\"h7_idx\")\n",
    "\n",
    "input_df.printSchema()"
   ]
  },
  {
   "cell_type": "markdown",
   "id": "e56f6b56-3d5c-4f66-a933-d8856f02d444",
   "metadata": {},
   "source": [
    "* Getting at parent H3 Index is simple in BDT."
   ]
  },
  {
   "cell_type": "code",
   "execution_count": 4,
   "id": "23eb1dbf-1dfd-4ead-b99b-362a9bf27b00",
   "metadata": {},
   "outputs": [
    {
     "name": "stderr",
     "output_type": "stream",
     "text": [
      "[Stage 1:>                                                          (0 + 1) / 1]\r"
     ]
    },
    {
     "name": "stdout",
     "output_type": "stream",
     "text": [
      "+------------------+------------------+\n",
      "|            h7_idx|    gwr_parent_idx|\n",
      "+------------------+------------------+\n",
      "|609196265925771263|604692666348732415|\n",
      "+------------------+------------------+\n",
      "only showing top 1 row\n",
      "\n"
     ]
    },
    {
     "name": "stderr",
     "output_type": "stream",
     "text": [
      "                                                                                \r"
     ]
    }
   ],
   "source": [
    "gwr_col_name = \"gwr_parent_idx\"\n",
    "\n",
    "parent = input_df \\\n",
    "    .selectExpr(\"h7_idx\", f\"H3ToParent(h7_idx, 6) AS {gwr_col_name }\")\n",
    "\n",
    "parent.show(1)"
   ]
  },
  {
   "cell_type": "markdown",
   "id": "fb25b7ed-267e-44ec-b90c-d5755b29b382",
   "metadata": {
    "tags": []
   },
   "source": [
    "### 5.2 GWR K-Ring Neighbors"
   ]
  },
  {
   "cell_type": "markdown",
   "id": "4acc5784-5f91-4808-8e9f-4c0ac1a566fc",
   "metadata": {},
   "source": [
    "#### 5.2.1 Visualization"
   ]
  },
  {
   "cell_type": "markdown",
   "id": "74d74f99-7316-43fb-858f-35d4d68fed7b",
   "metadata": {},
   "source": [
    "* The GWR area also includes the neighbors around it.\n",
    "\n",
    "<!-- -->\n",
    "\n",
    "* The number of rings (k) represents the bandwidth of the GWR.\n",
    "\n",
    "<!-- -->\n",
    "\n",
    "* Neighboring observations are weighted by k-ring association."
   ]
  },
  {
   "cell_type": "markdown",
   "id": "70417e66-29ec-443b-a742-363444418e3c",
   "metadata": {},
   "source": [
    "$$\n",
    "  w(obs_k) = \\frac{1}{1+k}\n",
    "$$"
   ]
  },
  {
   "cell_type": "markdown",
   "id": "96e721a4-02be-4b64-a5d4-6d789388e90b",
   "metadata": {},
   "source": [
    "<img src=\"DevSummit23Images/parent_nbrs_3.png\" alt=\"Drawing\" style=\"width: 500px;\">"
   ]
  },
  {
   "cell_type": "markdown",
   "id": "92c004a1-d8cf-4537-a824-0e4150233cc0",
   "metadata": {},
   "source": [
    "#### 5.2.2 BDT Code"
   ]
  },
  {
   "cell_type": "markdown",
   "id": "309e34f5-6275-451a-a3de-3b85a3d2731e",
   "metadata": {},
   "source": [
    "* BDT has functionality to get H3 k-ring neighbors."
   ]
  },
  {
   "cell_type": "code",
   "execution_count": 5,
   "id": "38c98d48-8a59-4ca4-97a2-0a3024a22aa3",
   "metadata": {},
   "outputs": [
    {
     "name": "stdout",
     "output_type": "stream",
     "text": [
      "Help on function h3kRingDistances in module bdt.functions:\n",
      "\n",
      "h3kRingDistances(h3Idx, k) -> pyspark.sql.column.Column\n",
      "    Return a collection of collections of the H3 Indices within k distance of the origin H3 index.\n",
      "    Use explode() to unpack.\n",
      "    \n",
      "    This function uses the Uber H3 Library.\n",
      "    \n",
      "    Args:\n",
      "        h3Idx: The H3 index value.\n",
      "        k: The distance from the origin H3 index.\n",
      "    \n",
      "    Returns:\n",
      "        Array[Array[Long]\n",
      "    \n",
      "    SQL Example::\n",
      "    \n",
      "        spark.sql('''SELECT GeoToH3(90, 180, 10) AS h3Idx''').createOrReplaceTempView(\"df\")\n",
      "    \n",
      "        spark.sql('''SELECT explode(H3kRingDistances(h3Idx, 10)) AS nbr_h3Indices FROM df''')\n",
      "    \n",
      "    Python Example::\n",
      "    \n",
      "        spark \\\n",
      "            .createDataFrame([(180, 90)], [\"lon\", \"lat\"]) \\\n",
      "            .select(geoToH3(\"lat\", \"lon\", 10).alias(\"h3Idx\"))\n",
      "    \n",
      "        df.select(explode(h3kRingDistances(\"h3Idx\", 10)).alias(\"nbr_h3Indices\"))\n",
      "\n"
     ]
    }
   ],
   "source": [
    "help(h3kRingDistances)"
   ]
  },
  {
   "cell_type": "code",
   "execution_count": 6,
   "id": "9463d313-66ce-4ba9-98a2-c27d60ac4dc7",
   "metadata": {},
   "outputs": [
    {
     "name": "stdout",
     "output_type": "stream",
     "text": [
      "+------------------+------------------+------------------+\n",
      "|    gwr_parent_idx|    gwr_k_ring_nbr|            weight|\n",
      "+------------------+------------------+------------------+\n",
      "|604692666348732415|604692666348732415|               1.0|\n",
      "|604692666348732415|604692824054562815|               0.5|\n",
      "|604692666348732415|604692823517691903|               0.5|\n",
      "|604692666348732415|604692665811861503|               0.5|\n",
      "|604692666348732415|604692665543426047|               0.5|\n",
      "|604692666348732415|604692666080296959|               0.5|\n",
      "|604692666348732415|604692670241046527|               0.5|\n",
      "|604692666348732415|604692670106828799|0.3333333333333333|\n",
      "|604692666348732415|604692823920345087|0.3333333333333333|\n",
      "|604692666348732415|604692823383474175|0.3333333333333333|\n",
      "|604692666348732415|604692823786127359|0.3333333333333333|\n",
      "|604692666348732415|604692819625377791|0.3333333333333333|\n",
      "|604692666348732415|604692819759595519|0.3333333333333333|\n",
      "|604692666348732415|604692665946079231|0.3333333333333333|\n",
      "|604692666348732415|604692665677643775|0.3333333333333333|\n",
      "|604692666348732415|604692666214514687|0.3333333333333333|\n",
      "|604692666348732415|604692663664377855|0.3333333333333333|\n",
      "|604692666348732415|604692669972611071|0.3333333333333333|\n",
      "|604692666348732415|604692669838393343|0.3333333333333333|\n",
      "|604692666348732415|604692670643699711|              0.25|\n",
      "+------------------+------------------+------------------+\n",
      "only showing top 20 rows\n",
      "\n"
     ]
    }
   ],
   "source": [
    "k = 6\n",
    "weight_col_name = \"weight\"\n",
    "\n",
    "nbr_df_gwr = parent \\\n",
    "        .select(col(gwr_col_name), explode(h3kRingDistances(gwr_col_name, k)).alias(\"knn\")) \\\n",
    "        .select(col(gwr_col_name), col(\"knn\"), floor(size(col(\"knn\")) / 6).alias(\"h3_ring_idx\")) \\\n",
    "        .select(col(gwr_col_name), col(\"knn\"), (1 / (col(\"h3_ring_idx\") + 1)).alias(weight_col_name)) \\\n",
    "        .select(col(gwr_col_name), explode(col(\"knn\")).alias(\"gwr_k_ring_nbr\"), col(weight_col_name))\n",
    "\n",
    "nbr_df_gwr.show()"
   ]
  },
  {
   "cell_type": "markdown",
   "id": "cf5b1c92-9ee5-4d94-a909-e87419550025",
   "metadata": {
    "tags": []
   },
   "source": [
    "## 4. Running GWR in BDT"
   ]
  },
  {
   "cell_type": "markdown",
   "id": "227f5dfa-963f-4fe7-a956-053fca1ec530",
   "metadata": {},
   "source": [
    "* We will use BDT ProcessorGWRH3.\n",
    "\n",
    "<!-- -->\n",
    "\n",
    "\n",
    "* Python Statmodels library is used for regression.\n",
    "\n",
    "<!-- -->\n",
    "\n",
    "* Sample Data: Uber Hex Bins (Res 7) enriched with Esri Buisiness Analyst Data."
   ]
  },
  {
   "cell_type": "markdown",
   "id": "354429c1-0e5b-4e1a-b3b5-ad8ea8610d1c",
   "metadata": {},
   "source": [
    "|Population | householdi | educationa |spendingto | psychograp |\n",
    "|-------------------|---------|---------|-----------------------|------|\n",
    "|the total population  | Median household income (annual)  | education level | annual budget expenditures             | have 1st home mortgage|"
   ]
  },
  {
   "cell_type": "markdown",
   "id": "0b3b257d-836f-4724-84a8-829a01927378",
   "metadata": {},
   "source": [
    "| n_visits_bi  |\n",
    "|---|\n",
    "| number of visits (annual)   |"
   ]
  },
  {
   "cell_type": "code",
   "execution_count": 7,
   "id": "d8653271-f817-4063-8efc-b1790d8a426d",
   "metadata": {
    "tags": []
   },
   "outputs": [
    {
     "name": "stdout",
     "output_type": "stream",
     "text": [
      "root\n",
      " |-- h7_idx: long (nullable = true)\n",
      " |-- SHAPE: struct (nullable = true)\n",
      " |    |-- WKB: binary (nullable = true)\n",
      " |    |-- XMIN: double (nullable = true)\n",
      " |    |-- YMIN: double (nullable = true)\n",
      " |    |-- XMAX: double (nullable = true)\n",
      " |    |-- YMAX: double (nullable = true)\n",
      " |-- hasdata: long (nullable = true)\n",
      " |-- aggregatio: string (nullable = true)\n",
      " |-- population: double (nullable = true)\n",
      " |-- householdi: double (nullable = true)\n",
      " |-- educationa: double (nullable = true)\n",
      " |-- spendingto: double (nullable = true)\n",
      " |-- psychograp: double (nullable = true)\n",
      " |-- shape_leng: double (nullable = true)\n",
      " |-- shape_area: double (nullable = true)\n",
      " |-- n_factor: short (nullable = true)\n",
      " |-- n_visits_bi: long (nullable = true)\n",
      " |-- mid: long (nullable = true)\n",
      "\n",
      "<class 'bdt.gwrh3.RegressionResultGWRH3'>\n"
     ]
    }
   ],
   "source": [
    "input_data = spark \\\n",
    "    .read \\\n",
    "    .parquet(\"/Users/ale10305/Desktop/gwrh3_input_50_atl_shp.prq\") \\\n",
    "    .repartition(12)\n",
    "\n",
    "input_data.printSchema()\n",
    "\n",
    "r_results = gwrh3(\n",
    "    input_data,\n",
    "    obs_col=\"h7_idx\",\n",
    "    dependent_col=\"n_visits_bi\",\n",
    "    independent_cols=[\"population\", \"householdi\", \"educationa\", \"spendingto\", \"psychograp\"],\n",
    "    gwr_res=5,\n",
    "    k=3)\n",
    "\n",
    "print(type(r_results))"
   ]
  },
  {
   "cell_type": "code",
   "execution_count": 8,
   "id": "79c9f44b-4865-47f5-b6e4-e4cf389cfab5",
   "metadata": {},
   "outputs": [
    {
     "name": "stdout",
     "output_type": "stream",
     "text": [
      "+------------------+--------------------+-------+--------------------+----------+----------+----------+------------+----------+-------------+-------------+--------+-----------+---+\n",
      "|            h7_idx|               SHAPE|hasdata|          aggregatio|population|householdi|educationa|  spendingto|psychograp|   shape_leng|   shape_area|n_factor|n_visits_bi|mid|\n",
      "+------------------+--------------------+-------+--------------------+----------+----------+----------+------------+----------+-------------+-------------+--------+-----------+---+\n",
      "|609195527057178623|{\u0001\u0006\u0000\u0000\u0000\u0001\u0000\u0000\u0000\u0001\u0003\u0000\u0000\u0000\u0001\u0000...|      1|BlockApportionmen...|    6431.0|   37353.0|     535.0|1.29250388E8|     816.0|9922.47716028|7088123.26873|    1158|       3765| 49|\n",
      "+------------------+--------------------+-------+--------------------+----------+----------+----------+------------+----------+-------------+-------------+--------+-----------+---+\n",
      "only showing top 1 row\n",
      "\n"
     ]
    }
   ],
   "source": [
    "input_data.show(1)"
   ]
  },
  {
   "cell_type": "markdown",
   "id": "596fa817-569e-48bd-8a27-b635acb7ce4f",
   "metadata": {},
   "source": [
    "## 5. Evaluating Model Perfomance"
   ]
  },
  {
   "cell_type": "markdown",
   "id": "7779cb2c-2c2e-45f3-897e-0237317b8872",
   "metadata": {},
   "source": [
    "* Evaluate the trained model on the test dataset."
   ]
  },
  {
   "cell_type": "code",
   "execution_count": 9,
   "id": "5109764b-a6b6-4270-a84b-6eea2eece56d",
   "metadata": {},
   "outputs": [
    {
     "name": "stderr",
     "output_type": "stream",
     "text": [
      "[Stage 17:>                                                         (0 + 4) / 4]\r"
     ]
    },
    {
     "name": "stdout",
     "output_type": "stream",
     "text": [
      "+------------------+--------------------+-----+------------------+-------------------+------------------+\n",
      "|   tval_spendingto|     pval_spendingto|    y|             y_hat|            resid_y|            adj_r2|\n",
      "+------------------+--------------------+-----+------------------+-------------------+------------------+\n",
      "|1.6673301997081775| 0.10041283549301706| 4646| 3233.280553624121|-1412.7194463758792|0.9327191117028645|\n",
      "|3.6477953689973566|4.279489818228621E-4| 1018| 3149.855063653106|  2131.855063653106|0.9199393801673219|\n",
      "| 5.797610998613623|2.174827536886712E-8|11239| 9673.067898797464|-1565.9321012025357|0.9449181123309583|\n",
      "|  4.75488718177388|4.302928319930997E-6| 1180| 1729.871563015779|   549.871563015779|0.9329646139244013|\n",
      "| 5.218477739590955|4.516344607356565E-7| 1610| 911.1056646826137| -698.8943353173863|0.9211921651661866|\n",
      "|1.6673301997081775| 0.10041283549301706| 6092| 5292.709313537567| -799.2906864624329|0.9327191117028645|\n",
      "| 5.218477739590955|4.516344607356565E-7|  115|385.52831116008156| 270.52831116008156|0.9211921651661866|\n",
      "+------------------+--------------------+-----+------------------+-------------------+------------------+\n",
      "only showing top 7 rows\n",
      "\n",
      "CPU times: user 23.2 ms, sys: 12.6 ms, total: 35.8 ms\n",
      "Wall time: 44.2 s\n"
     ]
    },
    {
     "name": "stderr",
     "output_type": "stream",
     "text": [
      "                                                                                \r"
     ]
    }
   ],
   "source": [
    "%%time\n",
    "tested = r_results.eval_on_test()\n",
    "tested.selectExpr(\"tval_spendingto\", \"pval_spendingto\", \"n_visits_bi AS y\", \"y_hat\", \"resid_y\", \"adj_r2\").show(7)"
   ]
  },
  {
   "cell_type": "markdown",
   "id": "cc35a90e-5631-461f-9090-d41ff489a963",
   "metadata": {},
   "source": [
    "* Model viablity stats:\n",
    "\n",
    "    * pval: Low (< 0.05) indicates significance.\n",
    "    \n",
    "    \n",
    "    <img src=\"DevSummit23Images/p-val.png\" alt=\"Drawing\" style=\"width: 600px;\">\n",
    "\n",
    "\n",
    "\n",
    "    * tval: A high value indicates significance.\n",
    "\n",
    "\n",
    "    * r^2: Between 0 and 1. Measures goodness of fit."
   ]
  },
  {
   "cell_type": "markdown",
   "id": "d19f6484-3a63-4e99-8e05-d67c4da66826",
   "metadata": {},
   "source": [
    "* Unpersist the DataFrame."
   ]
  },
  {
   "cell_type": "code",
   "execution_count": 10,
   "id": "cc5bd274-28c5-45a6-b685-e1682d7a1117",
   "metadata": {},
   "outputs": [
    {
     "data": {
      "text/plain": [
       "DataFrame[gwr_idx: bigint, n_obs: bigint, beta_population: double, beta_householdi: double, beta_educationa: double, beta_spendingto: double, beta_psychograp: double, tval_population: double, tval_householdi: double, tval_educationa: double, tval_spendingto: double, tval_psychograp: double, pval_population: double, pval_householdi: double, pval_educationa: double, pval_spendingto: double, pval_psychograp: double, adj_r2: double, reg_type: string]"
      ]
     },
     "execution_count": 10,
     "metadata": {},
     "output_type": "execute_result"
    }
   ],
   "source": [
    "r_results.unpersist()"
   ]
  },
  {
   "cell_type": "markdown",
   "id": "573ceaab-7acf-47ef-9365-2b01b500779b",
   "metadata": {},
   "source": [
    "## Performance"
   ]
  },
  {
   "cell_type": "markdown",
   "id": "26cb8b3e-c4ff-4808-bf19-2e63c046d71a",
   "metadata": {
    "tags": []
   },
   "source": [
    "### 5.1 Databricks"
   ]
  },
  {
   "cell_type": "markdown",
   "id": "f3c31ca5-99a6-4a4d-b98a-b1aec06b6411",
   "metadata": {},
   "source": [
    "|Num Workers | Memory (Each) | Num Cores (Each) |\n",
    "|------------|--------|-----------|\n",
    "| 3          | 32G    |8          |"
   ]
  },
  {
   "cell_type": "markdown",
   "id": "daf0694e-63ba-48fa-8eaf-d79cc6e0831f",
   "metadata": {},
   "source": [
    "|Num Obs Units (H7) | GWR Res | k-rings |Size of Nbrs DataFrame | Time |\n",
    "|-------------------|---------|---------|-----------------------|------|\n",
    "| 3,937             | 5 (H5)  |4        |1,404,411              | 14 sec|"
   ]
  },
  {
   "cell_type": "markdown",
   "id": "d2365fc0-3c7d-420f-91d2-150d74783825",
   "metadata": {},
   "source": [
    "* The input DataFrame is exploded for regression:  3,937 to 1,404,411\n",
    "\n",
    "<!-- -->\n",
    "\n",
    "* Upscaling to resolution of 5 with 4 rings of neighbors explodes DF"
   ]
  },
  {
   "cell_type": "markdown",
   "id": "2549d732-4f75-4853-b1da-83df17044940",
   "metadata": {},
   "source": [
    "## 6. Limitations and Future Improvements"
   ]
  },
  {
   "cell_type": "markdown",
   "id": "ace47203-5287-4a1a-9aed-1ffaa57f67a9",
   "metadata": {},
   "source": [
    "* Using Pandas and Statmodels is not efficient.\n",
    "\n",
    "* Writing the GWR H3 algorithm native to BDT.\n",
    "\n",
    "* More extensive testing."
   ]
  },
  {
   "cell_type": "markdown",
   "id": "1ef5fa2d-f68d-4265-99e1-49d4e2a7318b",
   "metadata": {},
   "source": [
    "#### 7. Image Reference"
   ]
  },
  {
   "cell_type": "markdown",
   "id": "6eeb6163-1ea8-4a2d-aa46-a00ff0673680",
   "metadata": {},
   "source": [
    "* https://pro.arcgis.com/en/pro-app/latest/tool-reference/spatial-statistics/regression-analysis-basics.htm\n",
    "\n",
    "* https://pro.arcgis.com/en/pro-app/latest/tool-reference/spatial-statistics/ordinary-least-squares.htm"
   ]
  }
 ],
 "metadata": {
  "kernelspec": {
   "display_name": "bdt3-py",
   "language": "python",
   "name": "bdt3-py"
  },
  "language_info": {
   "codemirror_mode": {
    "name": "ipython",
    "version": 3
   },
   "file_extension": ".py",
   "mimetype": "text/x-python",
   "name": "python",
   "nbconvert_exporter": "python",
   "pygments_lexer": "ipython3",
   "version": "3.10.8"
  }
 },
 "nbformat": 4,
 "nbformat_minor": 5
}
